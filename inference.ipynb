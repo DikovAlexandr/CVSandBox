{
 "cells": [
  {
   "cell_type": "code",
   "execution_count": 1,
   "metadata": {},
   "outputs": [
    {
     "ename": "ModuleNotFoundError",
     "evalue": "No module named 'maskrcnn'",
     "output_type": "error",
     "traceback": [
      "\u001b[1;31m---------------------------------------------------------------------------\u001b[0m",
      "\u001b[1;31mModuleNotFoundError\u001b[0m                       Traceback (most recent call last)",
      "\u001b[1;32mc:\\Users\\dsash\\Repository\\CVSandBox\\Reimagined\\inference.ipynb Cell 1\u001b[0m line \u001b[0;36m5\n\u001b[0;32m      <a href='vscode-notebook-cell:/c%3A/Users/dsash/Repository/CVSandBox/Reimagined/inference.ipynb#W2sZmlsZQ%3D%3D?line=2'>3</a>\u001b[0m \u001b[39mimport\u001b[39;00m \u001b[39mnumpy\u001b[39;00m \u001b[39mas\u001b[39;00m \u001b[39mnp\u001b[39;00m\n\u001b[0;32m      <a href='vscode-notebook-cell:/c%3A/Users/dsash/Repository/CVSandBox/Reimagined/inference.ipynb#W2sZmlsZQ%3D%3D?line=3'>4</a>\u001b[0m \u001b[39mimport\u001b[39;00m \u001b[39mmatplotlib\u001b[39;00m\u001b[39m.\u001b[39;00m\u001b[39mpyplot\u001b[39;00m \u001b[39mas\u001b[39;00m \u001b[39mplt\u001b[39;00m\n\u001b[1;32m----> <a href='vscode-notebook-cell:/c%3A/Users/dsash/Repository/CVSandBox/Reimagined/inference.ipynb#W2sZmlsZQ%3D%3D?line=4'>5</a>\u001b[0m \u001b[39mfrom\u001b[39;00m \u001b[39mmaskrcnn\u001b[39;00m \u001b[39mimport\u001b[39;00m inference\n",
      "\u001b[1;31mModuleNotFoundError\u001b[0m: No module named 'maskrcnn'"
     ]
    }
   ],
   "source": [
    "import os\n",
    "import cv2\n",
    "import numpy as np\n",
    "import matplotlib.pyplot as plt\n",
    "from maskrcnn import inference"
   ]
  },
  {
   "cell_type": "code",
   "execution_count": 21,
   "metadata": {},
   "outputs": [
    {
     "name": "stdout",
     "output_type": "stream",
     "text": [
      "input/inference_data/test_11.jpg\n",
      "Saved to outputs\\inference/test_11.jpg\n"
     ]
    },
    {
     "name": "stderr",
     "output_type": "stream",
     "text": [
      "c:\\Users\\dsash\\anaconda3\\Lib\\site-packages\\torchvision\\models\\_utils.py:208: UserWarning: The parameter 'pretrained' is deprecated since 0.13 and may be removed in the future, please use 'weights' instead.\n",
      "  warnings.warn(\n",
      "c:\\Users\\dsash\\anaconda3\\Lib\\site-packages\\torchvision\\models\\_utils.py:223: UserWarning: Arguments other than a weight enum or `None` for 'weights' are deprecated since 0.13 and may be removed in the future. The current behavior is equivalent to passing `weights=None`.\n",
      "  warnings.warn(msg)\n"
     ]
    }
   ],
   "source": [
    "!python inference_image.py --weights outputs/training/road_line/model.pth --show --threshold 0.8 --input input/inference_data/test_11.jpg"
   ]
  },
  {
   "cell_type": "code",
   "execution_count": null,
   "metadata": {},
   "outputs": [],
   "source": [
    "def get_cells_with_rcnn(images_arrays):\n",
    "    cells = []\n",
    "\n",
    "    # low_quality_images_arrays = self.pdf_file_to_array(dpi=self.low_dpi)\n",
    "    low_quality_images_arrays = images_arrays\n",
    "\n",
    "    for num, image in enumerate(low_quality_images_arrays):\n",
    "        weights = os.getcwd() + \"\\maskrcnn\\weights\\cell_detection.pth\"\n",
    "        _, boxes, labels = inference.get_bboxes_of_objects(image, weights, threshold = 0.8)\n",
    "        print(boxes, labels)\n",
    "\n",
    "        for box, label in zip(boxes, labels):\n",
    "            if label == \"cell\":\n",
    "                [x1, y1], [x2, y2] = box\n",
    "\n",
    "                croped_image = image[y1:y2, x1:x2]\n",
    "                plt.imshow(cv2.cvtColor(croped_image, cv2.COLOR_BGR2RGB))\n",
    "                plt.axis('off')\n",
    "                plt.show()\n",
    "    return croped_image"
   ]
  }
 ],
 "metadata": {
  "kernelspec": {
   "display_name": "base",
   "language": "python",
   "name": "python3"
  },
  "language_info": {
   "codemirror_mode": {
    "name": "ipython",
    "version": 3
   },
   "file_extension": ".py",
   "mimetype": "text/x-python",
   "name": "python",
   "nbconvert_exporter": "python",
   "pygments_lexer": "ipython3",
   "version": "3.11.3"
  },
  "orig_nbformat": 4
 },
 "nbformat": 4,
 "nbformat_minor": 2
}
