{
 "cells": [
  {
   "cell_type": "code",
   "execution_count": null,
   "metadata": {},
   "outputs": [],
   "source": [
    "import re\n",
    "import numpy as np\n",
    "import matplotlib.pyplot as plt"
   ]
  },
  {
   "cell_type": "code",
   "execution_count": null,
   "metadata": {},
   "outputs": [],
   "source": [
    "epochs = []\n",
    "train_losses = []\n",
    "valid_losses = []\n",
    "current_accuracies = []\n",
    "best_accuracies = []\n",
    "\n",
    "with open(\"train_logs.txt\", \"r\") as file:\n",
    "    data = file.read()\n",
    "\n",
    "pattern = r'\\[(\\d+)/(\\d+)\\] Train loss: ([\\d.]+), Valid loss: ([\\d.]+)'\n",
    "pattern += r', Elapsed_time: ([\\d.]+)\\nCurrent_accuracy : ([\\d.]+), Current_norm_ED : ([\\d.]+)'\n",
    "pattern += r'\\nBest_accuracy : ([\\d.]+), Best_norm_ED : ([\\d.]+)'\n",
    "\n",
    "matches = re.findall(pattern, data)\n",
    "\n",
    "for match in matches:\n",
    "    epoch, total_epochs, train_loss, valid_loss, elapsed_time, current_accuracy, _, best_accuracy, _ = match\n",
    "    epochs.append(int(epoch))\n",
    "    train_losses.append(float(train_loss))\n",
    "    valid_losses.append(float(valid_loss))\n",
    "    current_accuracies.append(float(current_accuracy))\n",
    "    best_accuracies.append(float(best_accuracy))"
   ]
  },
  {
   "cell_type": "code",
   "execution_count": null,
   "metadata": {},
   "outputs": [],
   "source": [
    "plt.figure(figsize=(12, 6))\n",
    "plt.plot(epochs, train_losses)\n",
    "plt.title(\"Train Loss\")\n",
    "plt.xlabel(\"Epoch\")\n",
    "plt.ylabel(\"Loss\")"
   ]
  },
  {
   "cell_type": "code",
   "execution_count": null,
   "metadata": {},
   "outputs": [],
   "source": [
    "plt.figure(figsize=(12, 6))\n",
    "plt.title(\"Validation Loss\")\n",
    "plt.xlabel(\"Epoch\")\n",
    "plt.ylabel(\"Loss\")"
   ]
  },
  {
   "cell_type": "code",
   "execution_count": null,
   "metadata": {},
   "outputs": [],
   "source": [
    "plt.figure(figsize=(12, 6))\n",
    "plt.title(\"Current Accuracy\")\n",
    "plt.xlabel(\"Epoch\")\n",
    "plt.ylabel(\"Accuracy\")"
   ]
  },
  {
   "cell_type": "code",
   "execution_count": null,
   "metadata": {},
   "outputs": [],
   "source": [
    "plt.figure(figsize=(12, 6))\n",
    "plt.title(\"Best Accuracy\")\n",
    "plt.xlabel(\"Epoch\")\n",
    "plt.ylabel(\"Accuracy\")"
   ]
  }
 ],
 "metadata": {
  "kernelspec": {
   "display_name": "mask-rcnn_tut",
   "language": "python",
   "name": "python3"
  },
  "language_info": {
   "name": "python",
   "version": "3.7.11"
  }
 },
 "nbformat": 4,
 "nbformat_minor": 2
}
